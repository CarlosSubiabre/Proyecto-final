{
 "cells": [
  {
   "cell_type": "code",
   "execution_count": 50,
   "id": "c95aad54",
   "metadata": {
    "scrolled": true
   },
   "outputs": [
    {
     "data": {
      "text/html": [
       "   <div id=\"bwO2DB\"></div>\n",
       "   <script type=\"text/javascript\" data-lets-plot-script=\"library\">\n",
       "       if(!window.letsPlotCallQueue) {\n",
       "           window.letsPlotCallQueue = [];\n",
       "       }; \n",
       "       window.letsPlotCall = function(f) {\n",
       "           window.letsPlotCallQueue.push(f);\n",
       "       };\n",
       "       (function() {\n",
       "           var script = document.createElement(\"script\");\n",
       "           script.type = \"text/javascript\";\n",
       "           script.src = \"https://cdn.jsdelivr.net/gh/JetBrains/lets-plot@v2.3.0/js-package/distr/lets-plot.min.js\";\n",
       "           script.onload = function() {\n",
       "               window.letsPlotCall = function(f) {f();};\n",
       "               window.letsPlotCallQueue.forEach(function(f) {f();});\n",
       "               window.letsPlotCallQueue = [];\n",
       "               \n",
       "               \n",
       "           };\n",
       "           script.onerror = function(event) {\n",
       "               window.letsPlotCall = function(f) {};\n",
       "               window.letsPlotCallQueue = [];\n",
       "               var div = document.createElement(\"div\");\n",
       "               div.style.color = 'darkred';\n",
       "               div.textContent = 'Error loading Lets-Plot JS';\n",
       "               document.getElementById(\"bwO2DB\").appendChild(div);\n",
       "           };\n",
       "           var e = document.getElementById(\"bwO2DB\");\n",
       "           e.appendChild(script);\n",
       "       })();\n",
       "   </script>"
      ]
     },
     "metadata": {},
     "output_type": "display_data"
    },
    {
     "data": {
      "text/html": [
       "   <div id=\"vKZEOb\"></div>\n",
       "   <script type=\"text/javascript\" data-lets-plot-script=\"plot\">\n",
       "       (function() {\n",
       "           var plotSpec={\n",
       "\"mapping\":{\n",
       "\"x\":\"Humedad\",\n",
       "\"fill\":\"Temperatura\"\n",
       "},\n",
       "\"data\":{\n",
       "},\n",
       "\"ggsize\":{\n",
       "\"width\":800.0,\n",
       "\"height\":250.0\n",
       "},\n",
       "\"kind\":\"plot\",\n",
       "\"scales\":[],\n",
       "\"layers\":[{\n",
       "\"mapping\":{\n",
       "},\n",
       "\"stat\":\"bin\",\n",
       "\"position\":\"dodge\",\n",
       "\"binwidth\":0.6,\n",
       "\"geom\":\"histogram\",\n",
       "\"data\":{\n",
       "\"Humedad\":[49.879999999999995,50.48,51.08,51.67999999999999,52.279999999999994,52.879999999999995,53.48,54.08,54.67999999999999,55.279999999999994,55.879999999999995,56.48,57.08,57.67999999999999,58.279999999999994,58.879999999999995,59.48,60.08,60.67999999999999,61.279999999999994,61.879999999999995,62.48,63.08,63.67999999999999,64.28,64.88,65.47999999999999],\n",
       "\"Temperatura\":[21.42689129052794,21.42689129052794,21.42689129052794,21.42689129052794,21.42689129052794,21.42689129052794,21.42689129052794,21.42689129052794,21.42689129052794,21.42689129052794,21.42689129052794,21.42689129052794,21.42689129052794,21.42689129052794,21.42689129052794,21.42689129052794,21.42689129052794,21.42689129052794,21.42689129052794,21.42689129052794,21.42689129052794,21.42689129052794,21.42689129052794,21.42689129052794,21.42689129052794,21.42689129052794,21.42689129052794],\n",
       "\"..count..\":[3248.0,0.0,3552.0,0.0,3280.0,3216.0,0.0,3120.0,0.0,2928.0,3312.0,0.0,3120.0,0.0,2784.0,3392.0,0.0,3136.0,0.0,3168.0,2864.0,0.0,3168.0,0.0,2736.0,3312.0,0.0]\n",
       "}\n",
       "}]\n",
       "};\n",
       "           var plotContainer = document.getElementById(\"vKZEOb\");\n",
       "           window.letsPlotCall(function() {{\n",
       "               LetsPlot.buildPlotFromProcessedSpecs(plotSpec, -1, -1, plotContainer);\n",
       "           }});\n",
       "       })();    \n",
       "   </script>"
      ]
     },
     "execution_count": 50,
     "metadata": {},
     "output_type": "execute_result"
    }
   ],
   "source": [
    "@file:DependsOn(\"com.github.doyaaaaaken:kotlin-csv-jvm:0.7.3\")\n",
    "import com.github.doyaaaaaken.kotlincsv.client.*\n",
    "%use lets-plot\n",
    "val csvData = java.io.File(\"test1.csv\")\n",
    "val datos: List<Map<String, String>> = CsvReader().readAllWithHeader(csvData)\n",
    "\n",
    "fun col(name: String, discrete: Boolean=false): List<*> {\n",
    "    return datos.map {\n",
    "        val v = it[name]\n",
    "        if(discrete) v else v?.toDouble()\n",
    "    }\n",
    "}\n",
    "\n",
    "val df = mapOf(\n",
    "    \"Temperatura\" to col (\"temperatura\"),\n",
    "    \"Humedad\" to col (\"humedad\")\n",
    "    )\n",
    "val p = letsPlot(df) { x = \"Temperatura\"; fill = \"Humedad\" } + ggsize(900, 250)\n",
    "p + geomHistogram(binWidth=0.5)\n",
    "\n",
    "val p1 = letsPlot(df) {x = \"Humedad\"; fill=\"Temperatura\"} + ggsize(800, 250)\n",
    "p1 + geomHistogram(binWidth=0.6, position=Pos.dodge)"
   ]
  },
  {
   "cell_type": "code",
   "execution_count": null,
   "id": "ec03cbaf",
   "metadata": {},
   "outputs": [],
   "source": []
  }
 ],
 "metadata": {
  "kernelspec": {
   "display_name": "Kotlin",
   "language": "kotlin",
   "name": "kotlin"
  },
  "language_info": {
   "codemirror_mode": "text/x-kotlin",
   "file_extension": ".kt",
   "mimetype": "text/x-kotlin",
   "name": "kotlin",
   "nbconvert_exporter": "",
   "pygments_lexer": "kotlin",
   "version": "1.7.20-dev-1299"
  }
 },
 "nbformat": 4,
 "nbformat_minor": 5
}
